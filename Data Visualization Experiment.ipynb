{
 "cells": [
  {
   "cell_type": "code",
   "execution_count": 187,
   "metadata": {},
   "outputs": [],
   "source": [
    "import pandas as pd\n",
    "import seaborn as sns\n",
    "import matplotlib as plt\n",
    "from warnings import filterwarnings\n",
    "%matplotlib inline\n",
    "filterwarnings('ignore')\n",
    "\n",
    "import numpy as np\n",
    "from scipy.stats import ttest_ind, ttest_ind_from_stats\n",
    "from scipy.special import stdtr\n",
    "from statistics import mean, stdev\n",
    "from math import sqrt"
   ]
  },
  {
   "cell_type": "code",
   "execution_count": 188,
   "metadata": {},
   "outputs": [],
   "source": [
    "df = pd.read_csv('Pies vs Waffles_May 3, 2018_21.52 2.csv', skiprows = [0,1])"
   ]
  },
  {
   "cell_type": "code",
   "execution_count": 189,
   "metadata": {},
   "outputs": [
    {
     "name": "stdout",
     "output_type": "stream",
     "text": [
      "Total Number of Surveys =  210\n"
     ]
    }
   ],
   "source": [
    "print(\"Total Number of Surveys = \", len(df))"
   ]
  },
  {
   "cell_type": "code",
   "execution_count": 191,
   "metadata": {},
   "outputs": [],
   "source": [
    "# rename columns\n",
    "old_names = df.columns\n",
    "new_names = []\n",
    "for old_name in old_names:\n",
    "    new_name = eval(old_name)['ImportId']\n",
    "    new_names.append(new_name)\n",
    "    \n",
    "df.columns = new_names"
   ]
  },
  {
   "cell_type": "code",
   "execution_count": 192,
   "metadata": {},
   "outputs": [
    {
     "data": {
      "text/plain": [
       "Text(0.5,1,'Distribution of Time Taken to Complete Surveys')"
      ]
     },
     "execution_count": 192,
     "metadata": {},
     "output_type": "execute_result"
    },
    {
     "data": {
      "image/png": "[encoded data removed]",
      "text/plain": [
       "<Figure size 432x288 with 1 Axes>"
      ]
     },
     "metadata": {},
     "output_type": "display_data"
    }
   ],
   "source": [
    "# plot time taken to complete each survey\n",
    "ax = sns.distplot(df['duration'])\n",
    "ax.set(xlabel='Duration (Seconds)', ylabel='Density')\n",
    "ax.set_title(\"Distribution of Time Taken to Complete Surveys\")"
   ]
  },
  {
   "cell_type": "markdown",
   "metadata": {},
   "source": [
    "## Question 1"
   ]
  },
  {
   "cell_type": "markdown",
   "metadata": {},
   "source": [
    "### Does the perception of one slice/area depend on the size of the other slices/areas?"
   ]
  },
  {
   "cell_type": "code",
   "execution_count": 193,
   "metadata": {},
   "outputs": [],
   "source": [
    "def exact_accuracy(df,correct_answer):\n",
    "    df = pd.DataFrame(df)\n",
    "    df.columns = ['value']\n",
    "    correct = len(df[(df['value'] == correct_answer)])\n",
    "    return correct/len(df)\n",
    "\n",
    "def accuracy(df,correct_answer,n):\n",
    "    df = pd.DataFrame(df)\n",
    "    df.columns = ['value']\n",
    "    correct = len(df.loc[df['value'].isin(range(correct_answer - n,correct_answer + n + 1))])\n",
    "    return correct/len(df)\n",
    "\n",
    "def cohens_d(pie, waffle):\n",
    "    c0 = np.asarray(pie)\n",
    "    c1 = np.asarray(waffle)\n",
    "    cohens_d = (mean(c0) - mean(c1)) / (sqrt((stdev(c0) ** 2 + stdev(c1) ** 2) / 2))\n",
    "    return cohens_d\n",
    "    "
   ]
  },
  {
   "cell_type": "code",
   "execution_count": 194,
   "metadata": {},
   "outputs": [],
   "source": [
    "pie1 = df[(df['QID1_1'].notnull())]['QID1_1']\n",
    "pie2 = df[(df['QID3_1'].notnull())]['QID3_1']\n",
    "pie3 = df[(df['QID4_1'].notnull())]['QID4_1']\n",
    "pie4 = df[(df['QID5_1'].notnull())]['QID5_1']\n",
    "pies = [pie1, pie2, pie3, pie4]\n",
    "waffle1 = df[(df['QID7_1'].notnull())]['QID7_1']\n",
    "waffle2 = df[(df['QID8_1'].notnull())]['QID8_1']\n",
    "waffle3 = df[(df['QID9_1'].notnull())]['QID9_1']\n",
    "waffle4 = df[(df['QID10_1'].notnull())]['QID10_1']\n",
    "waffles = [waffle1, waffle2, waffle3, waffle4]"
   ]
  },
  {
   "cell_type": "code",
   "execution_count": 195,
   "metadata": {},
   "outputs": [
    {
     "name": "stdout",
     "output_type": "stream",
     "text": [
      "Option  1\n",
      "ttest_ind:            t = -0.36102  p = 0.719002\n",
      "cohen's d:  -0.07880321382387548\n",
      "Pie Exact Accuracy:  0.05\n",
      "Waffle Exact Accuracy:  0.4666666666666667\n",
      "\n",
      "\n",
      "Pie Accuracy within 2 units:  0.425\n",
      "Waffle Accuracy within 2 units:  0.6222222222222222\n",
      "******************************\n",
      "Option  2\n",
      "ttest_ind:            t = 1.25  p = 0.214854\n",
      "cohen's d:  0.2769648261581617\n",
      "Pie Exact Accuracy:  0.0625\n",
      "Waffle Exact Accuracy:  0.7222222222222222\n",
      "\n",
      "\n",
      "Pie Accuracy within 2 units:  0.3333333333333333\n",
      "Waffle Accuracy within 2 units:  0.8055555555555556\n",
      "******************************\n",
      "Option  3\n",
      "ttest_ind:            t = 0.778461  p = 0.438921\n",
      "cohen's d:  0.18217193737817916\n",
      "Pie Exact Accuracy:  0.0625\n",
      "Waffle Exact Accuracy:  0.55\n",
      "\n",
      "\n",
      "Pie Accuracy within 2 units:  0.40625\n",
      "Waffle Accuracy within 2 units:  0.65\n",
      "******************************\n",
      "Option  4\n",
      "ttest_ind:            t = 0.217952  p = 0.827944\n",
      "cohen's d:  0.044834330848297604\n",
      "Pie Exact Accuracy:  0.06666666666666667\n",
      "Waffle Exact Accuracy:  0.62\n",
      "\n",
      "\n",
      "Pie Accuracy within 2 units:  0.4666666666666667\n",
      "Waffle Accuracy within 2 units:  0.72\n",
      "******************************\n"
     ]
    }
   ],
   "source": [
    "for i in range(len(pies)):\n",
    "    pie = pies[i]\n",
    "    waffle = waffles[i]\n",
    "    t, p = ttest_ind(pie, waffle, equal_var= True)\n",
    "    cohen = cohens_d(pie,waffle)\n",
    "    print(\"Option \",i+1)\n",
    "    print(\"ttest_ind:            t = %g  p = %g\" % (t, p))\n",
    "    print(\"cohen's d: \", cohen)\n",
    "\n",
    "    \n",
    "    print(\"Pie Exact Accuracy: \", exact_accuracy(pie,14))\n",
    "    print(\"Waffle Exact Accuracy: \", exact_accuracy(waffle,14))\n",
    "    print('\\n')\n",
    "\n",
    "    print('Pie Accuracy within 2 units: ', accuracy(pie,14,2))\n",
    "    print('Waffle Accuracy within 2 units: ', accuracy(waffle,14,2))\n",
    "\n",
    "    print(\"******************************\")"
   ]
  },
  {
   "cell_type": "markdown",
   "metadata": {},
   "source": [
    "## Question 2 : Total number of observations"
   ]
  },
  {
   "cell_type": "code",
   "execution_count": 199,
   "metadata": {},
   "outputs": [],
   "source": [
    "pie1000 = df[(df['QID13_1'].notnull())]['QID13_1']\n",
    "pie874 = df[(df['QID14_1'].notnull())]['QID14_1']\n",
    "pies = [pie1000,pie874]\n",
    "waffle1000 = df[(df['QID18_1'].notnull())]['QID18_1']\n",
    "waffle874 = df[(df['QID19_1'].notnull())]['QID19_1']\n",
    "waffles = [waffle1000,waffle874]"
   ]
  },
  {
   "cell_type": "code",
   "execution_count": 207,
   "metadata": {},
   "outputs": [
    {
     "name": "stdout",
     "output_type": "stream",
     "text": [
      "N =  1000\n",
      "ttest_ind:            t = 1.61327  p = 0.108955\n",
      "cohen's d:  0.2721334444241711\n",
      "Pie Exact Accuracy:  0.013888888888888888\n",
      "Waffle Exact Accuracy:  0.0\n",
      "\n",
      "\n",
      "Pie Accuracy within 2 units:  0.1111111111111111\n",
      "Waffle Accuracy within 2 units:  0.42028985507246375\n",
      "******************************\n",
      "N =  874\n",
      "ttest_ind:            t = -0.078563  p = 0.937505\n",
      "cohen's d:  -0.013906615254077681\n",
      "Pie Exact Accuracy:  0.014705882352941176\n",
      "Waffle Exact Accuracy:  0.18333333333333332\n",
      "\n",
      "\n",
      "Pie Accuracy within 2 units:  0.058823529411764705\n",
      "Waffle Accuracy within 2 units:  0.26666666666666666\n",
      "******************************\n"
     ]
    }
   ],
   "source": [
    "for i in range(len(pies)):\n",
    "    pie = pies[i]\n",
    "    waffle = waffles[i]\n",
    "    t, p = ttest_ind(pie, waffle, equal_var= True)\n",
    "    cohen = cohens_d(pie,waffle)\n",
    "    if i == 0:\n",
    "        print(\"N = \",1000)\n",
    "        correct = 140\n",
    "    else:\n",
    "        print(\"N = \", 874)\n",
    "        correct = round(0.14*874)\n",
    "\n",
    "    print(\"ttest_ind:            t = %g  p = %g\" % (t, p))\n",
    "    print(\"cohen's d: \", cohen)\n",
    "\n",
    "    \n",
    "    print(\"Pie Exact Accuracy: \", exact_accuracy(pie,correct))\n",
    "    print(\"Waffle Exact Accuracy: \", exact_accuracy(waffle,correct))\n",
    "    print('\\n')\n",
    "\n",
    "    print('Pie Accuracy within 2 units: ', accuracy(pie,correct,2))\n",
    "    print('Waffle Accuracy within 2 units: ', accuracy(waffle,correct,2))\n",
    "\n",
    "    print(\"******************************\")"
   ]
  },
  {
   "cell_type": "markdown",
   "metadata": {},
   "source": [
    "## Question 3 : Adjacent"
   ]
  },
  {
   "cell_type": "code",
   "execution_count": null,
   "metadata": {},
   "outputs": [],
   "source": [
    "p1 = df[(df['QID23_1'].notnull())]['QID23_1']\n",
    "p2 = df[(df['QID28_1'].notnull())]['QID28_1']\n",
    "p3 = df[(df['QID29_1'].notnull())]['QID29_1']\n",
    "p4 = df[(df['QID30_1'].notnull())]['QID30_1']\n",
    "p5 = df[(df['QID31_1'].notnull())]['QID31_1']\n",
    "\n",
    "w1 = df[(df['QID32_1'].notnull())]['QID32_1']\n",
    "w2 = df[(df['QID33_1'].notnull())]['QID33_1']\n",
    "w3 = df[(df['QID34_1'].notnull())]['QID34_1']\n",
    "w4 = df[(df['QID35_1'].notnull())]['QID35_1']\n",
    "w5 = df[(df['QID36_1'].notnull())]['QID36_1']\n",
    "\n",
    "\n",
    "\n",
    "\n",
    "\n",
    "\n"
   ]
  },
  {
   "cell_type": "code",
   "execution_count": 210,
   "metadata": {},
   "outputs": [
    {
     "data": {
      "text/plain": [
       "['startDate',\n",
       " 'endDate',\n",
       " 'status',\n",
       " 'ipAddress',\n",
       " 'progress',\n",
       " 'duration',\n",
       " 'finished',\n",
       " 'recordedDate',\n",
       " '_recordId',\n",
       " 'recipientLastName',\n",
       " 'recipientFirstName',\n",
       " 'recipientEmail',\n",
       " 'externalDataReference',\n",
       " 'locationLatitude',\n",
       " 'locationLongitude',\n",
       " 'distributionChannel',\n",
       " 'userLanguage',\n",
       " 'QID1_1',\n",
       " 'QID3_1',\n",
       " 'QID4_1',\n",
       " 'QID5_1',\n",
       " 'QID11_FIRST_CLICK',\n",
       " 'QID11_LAST_CLICK',\n",
       " 'QID11_PAGE_SUBMIT',\n",
       " 'QID11_CLICK_COUNT',\n",
       " 'QID7_1',\n",
       " 'QID8_1',\n",
       " 'QID9_1',\n",
       " 'QID10_1',\n",
       " 'QID12_FIRST_CLICK',\n",
       " 'QID12_LAST_CLICK',\n",
       " 'QID12_PAGE_SUBMIT',\n",
       " 'QID12_CLICK_COUNT',\n",
       " 'QID13_1',\n",
       " 'QID14_1',\n",
       " 'QID17_FIRST_CLICK',\n",
       " 'QID17_LAST_CLICK',\n",
       " 'QID17_PAGE_SUBMIT',\n",
       " 'QID17_CLICK_COUNT',\n",
       " 'QID18_1',\n",
       " 'QID19_1',\n",
       " 'QID22_FIRST_CLICK',\n",
       " 'QID22_LAST_CLICK',\n",
       " 'QID22_PAGE_SUBMIT',\n",
       " 'QID22_CLICK_COUNT',\n",
       " 'QID23',\n",
       " 'QID28',\n",
       " 'QID29',\n",
       " 'QID30',\n",
       " 'QID31',\n",
       " 'QID27_FIRST_CLICK',\n",
       " 'QID27_LAST_CLICK',\n",
       " 'QID27_PAGE_SUBMIT',\n",
       " 'QID27_CLICK_COUNT',\n",
       " 'QID32',\n",
       " 'QID33',\n",
       " 'QID34',\n",
       " 'QID35',\n",
       " 'QID36',\n",
       " 'QID37_FIRST_CLICK',\n",
       " 'QID37_LAST_CLICK',\n",
       " 'QID37_PAGE_SUBMIT',\n",
       " 'QID37_CLICK_COUNT',\n",
       " 'QID38#1_1',\n",
       " 'QID38#2_1',\n",
       " 'QID44#1_1',\n",
       " 'QID44#2_1',\n",
       " 'QID45#1_1',\n",
       " 'QID45#2_1',\n",
       " 'QID46#1_1',\n",
       " 'QID46#2_1',\n",
       " 'QID47#1_1',\n",
       " 'QID47#2_1',\n",
       " 'QID48#1_1',\n",
       " 'QID48#2_1',\n",
       " 'QID43_FIRST_CLICK',\n",
       " 'QID43_LAST_CLICK',\n",
       " 'QID43_PAGE_SUBMIT',\n",
       " 'QID43_CLICK_COUNT',\n",
       " 'QID49#1_1',\n",
       " 'QID49#2_1',\n",
       " 'QID50#1_1',\n",
       " 'QID50#2_1',\n",
       " 'QID51#1_1',\n",
       " 'QID51#2_1',\n",
       " 'QID52#1_1',\n",
       " 'QID52#2_1',\n",
       " 'QID53#1_1',\n",
       " 'QID53#2_1',\n",
       " 'QID54#1_1',\n",
       " 'QID54#2_1',\n",
       " 'QID55_FIRST_CLICK',\n",
       " 'QID55_LAST_CLICK',\n",
       " 'QID55_PAGE_SUBMIT',\n",
       " 'QID55_CLICK_COUNT',\n",
       " 'QID56_1',\n",
       " 'QID63_1',\n",
       " 'QID64_1',\n",
       " 'QID65_1',\n",
       " 'QID66_1',\n",
       " 'QID62_FIRST_CLICK',\n",
       " 'QID62_LAST_CLICK',\n",
       " 'QID62_PAGE_SUBMIT',\n",
       " 'QID62_CLICK_COUNT',\n",
       " 'QID67_1',\n",
       " 'QID68_1',\n",
       " 'QID69_1',\n",
       " 'QID70_1',\n",
       " 'QID71_1',\n",
       " 'QID72_FIRST_CLICK',\n",
       " 'QID72_LAST_CLICK',\n",
       " 'QID72_PAGE_SUBMIT',\n",
       " 'QID72_CLICK_COUNT',\n",
       " 'QID73_1',\n",
       " 'QID74_1',\n",
       " 'QID75_1',\n",
       " 'QID76_1',\n",
       " 'QID77_1',\n",
       " 'QID78_FIRST_CLICK',\n",
       " 'QID78_LAST_CLICK',\n",
       " 'QID78_PAGE_SUBMIT',\n",
       " 'QID78_CLICK_COUNT',\n",
       " 'QID79_1',\n",
       " 'QID80_1',\n",
       " 'QID81_1',\n",
       " 'QID82_1',\n",
       " 'QID83_1',\n",
       " 'QID84_FIRST_CLICK',\n",
       " 'QID84_LAST_CLICK',\n",
       " 'QID84_PAGE_SUBMIT',\n",
       " 'QID84_CLICK_COUNT',\n",
       " 'QID85_1',\n",
       " 'QID88_1',\n",
       " 'QID89_1',\n",
       " 'QID90_FIRST_CLICK',\n",
       " 'QID90_LAST_CLICK',\n",
       " 'QID90_PAGE_SUBMIT',\n",
       " 'QID90_CLICK_COUNT',\n",
       " 'QID91_1',\n",
       " 'QID92_1',\n",
       " 'QID93_1',\n",
       " 'QID96_FIRST_CLICK',\n",
       " 'QID96_LAST_CLICK',\n",
       " 'QID96_PAGE_SUBMIT',\n",
       " 'QID96_CLICK_COUNT',\n",
       " 'MTurkCode']"
      ]
     },
     "execution_count": 210,
     "metadata": {},
     "output_type": "execute_result"
    }
   ],
   "source": [
    "new_names"
   ]
  },
  {
   "cell_type": "code",
   "execution_count": null,
   "metadata": {},
   "outputs": [],
   "source": []
  }
 ],
 "metadata": {
  "anaconda-cloud": {},
  "kernelspec": {
   "display_name": "Python [default]",
   "language": "python",
   "name": "python3"
  },
  "language_info": {
   "codemirror_mode": {
    "name": "ipython",
    "version": 3
   },
   "file_extension": ".py",
   "mimetype": "text/x-python",
   "name": "python",
   "nbconvert_exporter": "python",
   "pygments_lexer": "ipython3",
   "version": "3.5.2"
  }
 },
 "nbformat": 4,
 "nbformat_minor": 2
}
