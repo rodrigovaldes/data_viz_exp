{
 "cells": [
  {
   "cell_type": "code",
   "execution_count": null,
   "metadata": {
    "collapsed": true
   },
   "outputs": [],
   "source": [
    "import pandas as pd\n",
    "import seaborn as sns\n",
    "import matplotlib.pyplot as plt\n",
    "from warnings import filterwarnings\n",
    "%matplotlib inline\n",
    "filterwarnings('ignore')\n",
    "\n",
    "import numpy as np\n",
    "from scipy.stats import ttest_ind, ttest_ind_from_stats\n",
    "from scipy.special import stdtr\n",
    "from statistics import mean, stdev\n",
    "from math import sqrt"
   ]
  },
  {
   "cell_type": "code",
   "execution_count": null,
   "metadata": {
    "collapsed": true
   },
   "outputs": [],
   "source": [
    "df = pd.read_csv('Pies vs Waffles_May 3, 2018_21.52 2.csv', skiprows = [0,1])"
   ]
  },
  {
   "cell_type": "code",
   "execution_count": null,
   "metadata": {
    "collapsed": false
   },
   "outputs": [],
   "source": [
    "print(\"Total Number of Surveys = \", len(df))"
   ]
  },
  {
   "cell_type": "code",
   "execution_count": null,
   "metadata": {
    "collapsed": false
   },
   "outputs": [],
   "source": [
    "# rename columns\n",
    "old_names = df.columns\n",
    "new_names = []\n",
    "for old_name in old_names:\n",
    "    new_name = eval(old_name)['ImportId']\n",
    "    new_names.append(new_name)\n",
    "    \n",
    "df.columns = new_names"
   ]
  },
  {
   "cell_type": "code",
   "execution_count": null,
   "metadata": {
    "collapsed": true
   },
   "outputs": [],
   "source": [
    "def plot_distributions(list_to_graph, list_names, x, y, title, real_val, print_val = True, file_im = \"images/something.png\"):\n",
    "    fig, ax = plt.subplots()\n",
    "    for i, data in enumerate(list_to_graph):\n",
    "        sns.set_style(\"white\")\n",
    "        sns.distplot(data, hist = False, kde_kws={\"label\":list_names[i]})\n",
    "    ax.set(xlabel= x, ylabel= y)\n",
    "    ax.set_title(title, size=12.5, weight='bold')\n",
    "    if print_val:\n",
    "        ax.axvline(x=real_val, linewidth=1, color='r')\n",
    "        lim_y = ax.get_ylim()\n",
    "        lim_x = ax.get_xlim()\n",
    "        plt.text(real_val - ((lim_y[1] - lim_y[0])/7) , (lim_y[1] - lim_y[0])/10,'value', rotation = 90)\n",
    "    \n",
    "    plt.savefig(file_im)"
   ]
  },
  {
   "cell_type": "code",
   "execution_count": null,
   "metadata": {
    "collapsed": false
   },
   "outputs": [],
   "source": [
    "# plot time taken to complete each survey\n",
    "def make_plot(df, col_name, x, y, title):\n",
    "    ax = sns.distplot(df[col_name])\n",
    "    ax.set(xlabel= x, ylabel= y)\n",
    "    ax.set_title(title)\n",
    "    plt.savefig(\"images/one.png\")\n",
    "\n",
    "        \n",
    "make_plot(df, 'duration', 'Duration (Seconds)', 'Density', \"Distribution of Time Taken to Complete Surveys\")"
   ]
  },
  {
   "cell_type": "markdown",
   "metadata": {},
   "source": [
    "## Question 1"
   ]
  },
  {
   "cell_type": "markdown",
   "metadata": {},
   "source": [
    "### Does the perception of one slice/area depend on the size of the other slices/areas?"
   ]
  },
  {
   "cell_type": "code",
   "execution_count": null,
   "metadata": {
    "collapsed": true
   },
   "outputs": [],
   "source": [
    "pie1 = df[(df['QID1_1'].notnull())]['QID1_1']\n",
    "pie2 = df[(df['QID3_1'].notnull())]['QID3_1']\n",
    "pie3 = df[(df['QID4_1'].notnull())]['QID4_1']\n",
    "pie4 = df[(df['QID5_1'].notnull())]['QID5_1']\n",
    "pies = [pie1, pie2, pie3, pie4]\n",
    "waffle1 = df[(df['QID7_1'].notnull())]['QID7_1']\n",
    "waffle2 = df[(df['QID8_1'].notnull())]['QID8_1']\n",
    "waffle3 = df[(df['QID9_1'].notnull())]['QID9_1']\n",
    "waffle4 = df[(df['QID10_1'].notnull())]['QID10_1']\n",
    "waffles = [waffle1, waffle2, waffle3, waffle4]"
   ]
  },
  {
   "cell_type": "code",
   "execution_count": null,
   "metadata": {
    "collapsed": false
   },
   "outputs": [],
   "source": [
    "# Among categories\n",
    "names = [\"pie1\", \"waffle1\"]\n",
    "plot_distributions([pie1, waffle1], names, \"Answer\", \"Probability\", \"Comparison\", 14, True, \"images/two.png\")\n",
    "\n",
    "names = [\"pie2\", \"waffle2\"]\n",
    "plot_distributions([pie2, waffle2], names, \"Answer\", \"Probability\", \"Comparison\", 14, False, \"images/three.png\")\n",
    "\n",
    "names = [\"pie3\", \"waffle3\"]\n",
    "plot_distributions([pie3, waffle3], names, \"Answer\", \"Probability\", \"Comparison\", 14, True, \"images/four.png\")\n",
    "\n",
    "names = [\"pie4\", \"waffle4\"]\n",
    "plot_distributions([pie4, waffle4], names, \"Answer\", \"Probability\", \"Comparison\", 14, True, \"images/five.png\")"
   ]
  },
  {
   "cell_type": "code",
   "execution_count": null,
   "metadata": {
    "collapsed": false
   },
   "outputs": [],
   "source": [
    "# Intercategory\n",
    "names = [\"pie1\", \"pie2\", \"pie3\", \"pie4\"]\n",
    "plot_distributions(pies, names, \"Answer\", \"Probability\", \"Comparison\", 14, True, \"images/six.png\")\n",
    "\n",
    "names = [\"waffle1\", \"waffle2\", \"waffle3\", \"waffle4\"]\n",
    "plot_distributions(waffles, names, \"Answer\", \"Probability\", \"Comparison\", 14, False, \"images/seven.png\")"
   ]
  },
  {
   "cell_type": "markdown",
   "metadata": {},
   "source": [
    "## Question 2 : Total number of observations"
   ]
  },
  {
   "cell_type": "code",
   "execution_count": null,
   "metadata": {
    "collapsed": true
   },
   "outputs": [],
   "source": [
    "pie1000 = df[(df['QID13_1'].notnull())]['QID13_1']\n",
    "pie874 = df[(df['QID14_1'].notnull())]['QID14_1']\n",
    "pies = [pie1000,pie874]\n",
    "waffle1000 = df[(df['QID18_1'].notnull())]['QID18_1']\n",
    "waffle874 = df[(df['QID19_1'].notnull())]['QID19_1']\n",
    "waffles = [waffle1000,waffle874]"
   ]
  },
  {
   "cell_type": "code",
   "execution_count": null,
   "metadata": {
    "collapsed": false
   },
   "outputs": [],
   "source": [
    "pie1000 = df[(df['QID13_1'].notnull())]['QID13_1']\n",
    "pie874 = df[(df['QID14_1'].notnull())]['QID14_1']\n",
    "pies = [pie1000,pie874]\n",
    "waffle1000 = df[(df['QID18_1'].notnull())]['QID18_1']\n",
    "waffle874 = df[(df['QID19_1'].notnull())]['QID19_1']\n",
    "waffles = [waffle1000,waffle874]"
   ]
  },
  {
   "cell_type": "code",
   "execution_count": null,
   "metadata": {
    "collapsed": false
   },
   "outputs": [],
   "source": [
    "# Pie Vs Waffle\n",
    "names = [\"pie1000\", \"waffle1000\"]\n",
    "plot_distributions([pie1000, waffle1000], names, \"Answer\", \"Probability\", \"Comparison\", 140, True, \"images/eight.png\")\n",
    "\n",
    "names = [\"pie874\", \"waffle874\"]\n",
    "plot_distributions([pie874, waffle874], names, \"Answer\", \"Probability\", \"Comparison\", 140, True, \"images/nine.png\")"
   ]
  },
  {
   "cell_type": "code",
   "execution_count": null,
   "metadata": {
    "collapsed": false
   },
   "outputs": [],
   "source": [
    "# Among categories\n",
    "names = [\"pie1000\", \"pie874\"]\n",
    "plot_distributions([pie1000, pie874], names, \"Answer\", \"Probability\", \"Comparison\", 140, True, \"images/ten.png\")\n",
    "\n",
    "names = [\"waffle1000\", \"waffle874\"]\n",
    "plot_distributions([waffle1000, waffle874], names, \"Answer\", \"Probability\", \"Comparison\", 140, True,\"images/eleven.png\")"
   ]
  },
  {
   "cell_type": "markdown",
   "metadata": {},
   "source": [
    "## Question 3 \n",
    "\n",
    "### Comparison : Adjacent vs Not"
   ]
  },
  {
   "cell_type": "code",
   "execution_count": null,
   "metadata": {
    "collapsed": true
   },
   "outputs": [],
   "source": [
    "p1 = df[(df['QID23'].notnull())]['QID23']\n",
    "p2 = df[(df['QID28'].notnull())]['QID28']\n",
    "p3 = df[(df['QID29'].notnull())]['QID29']\n",
    "p4 = df[(df['QID30'].notnull())]['QID30']\n",
    "p5 = df[(df['QID31'].notnull())]['QID31']\n",
    "\n",
    "w1 = df[(df['QID32'].notnull())]['QID32']\n",
    "w2 = df[(df['QID33'].notnull())]['QID33']\n",
    "w3 = df[(df['QID34'].notnull())]['QID34']\n",
    "w4 = df[(df['QID35'].notnull())]['QID35']\n",
    "w5 = df[(df['QID36'].notnull())]['QID36']\n",
    "\n",
    "pie_adjacent = p1.append(p2).append(p3)\n",
    "pie_opposite = p4.append(p5)\n",
    "\n",
    "waffle_adjacent = w1.append(w2).append(w3)\n",
    "waffle_opposite = w4.append(w5)\n",
    "\n",
    "pies = [pie_adjacent, pie_opposite]\n",
    "waffles = [waffle_adjacent, waffle_opposite]"
   ]
  },
  {
   "cell_type": "code",
   "execution_count": null,
   "metadata": {
    "collapsed": false
   },
   "outputs": [],
   "source": [
    "def list_to_proportions(list_):\n",
    "    sum_all = sum(list_)\n",
    "    new_list = []\n",
    "    for item in list_:\n",
    "        new_list.append(item/sum_all)\n",
    "    return new_list\n",
    "\n",
    "def raw_proportions(one):\n",
    "    one_df = pd.DataFrame(one).reset_index(drop=True).rename(columns={0: \"cat\"})\n",
    "    one_df[\"ones\"] = 1\n",
    "    list_vals = list(pd.DataFrame(one_df.groupby(\"cat\").count())[\"ones\"])\n",
    "    list_proportions = list_to_proportions(list_vals)\n",
    "    \n",
    "    return list_proportions\n",
    "\n",
    "def prop_graph(one, two):\n",
    "    new_1 = []\n",
    "    new_2 = []\n",
    "    for l in [one, two]:\n",
    "        new_1.append(l[0])\n",
    "        new_2.append(l[1])\n",
    "    \n",
    "    return new_1, new_2"
   ]
  },
  {
   "cell_type": "code",
   "execution_count": null,
   "metadata": {
    "collapsed": false
   },
   "outputs": [],
   "source": [
    "import numpy as np\n",
    "import matplotlib.pyplot as plt\n",
    "\n",
    "def bar_plot(N, one, two, title = 'Answers by graph', y_label = 'Proportion by answer',\n",
    "             name_cat = ('pie', 'waffle'), file_im = \"images/something.png\"):\n",
    "    ind = np.arange(N)  # the x locations for the groups\n",
    "    width = 0.5     # the width of the bars\n",
    "    p1 = plt.bar(ind, one , width, color='#d62728')\n",
    "    p2 = plt.bar(ind, two, width, bottom=one)\n",
    "\n",
    "    plt.ylabel(y_label)\n",
    "    plt.title(title)\n",
    "    plt.xticks(ind, name_cat)\n",
    "    plt.legend(('Correct', 'Uncorrect'))\n",
    "    plt.show()\n",
    "    "
   ]
  },
  {
   "cell_type": "code",
   "execution_count": null,
   "metadata": {
    "collapsed": false
   },
   "outputs": [],
   "source": [
    "# Pie vs Waffle adjacent\n",
    "one_aux = raw_proportions(pie_adjacent)\n",
    "two_aux = raw_proportions(waffle_adjacent)\n",
    "one, two = prop_graph(one_aux, two_aux)\n",
    "\n",
    "N = 2\n",
    "title = 'Comparison among Pies and Waffles'\n",
    "name_cat = ('pie', 'waffle')\n",
    "bar_plot(N, one, two, title = title, name_cat = name_cat, file_im = \"images/twelve.png\")"
   ]
  },
  {
   "cell_type": "code",
   "execution_count": null,
   "metadata": {
    "collapsed": false,
    "scrolled": true
   },
   "outputs": [],
   "source": [
    "# Pie vs Waffle opposite\n",
    "one_aux = raw_proportions(pie_opposite)\n",
    "two_aux = raw_proportions(waffle_opposite)\n",
    "one, two = prop_graph(one_aux, two_aux)\n",
    "\n",
    "N = 2\n",
    "title = 'Comparison among Pies and Waffles'\n",
    "name_cat = ('pie', 'waffle')\n",
    "bar_plot(N, one, two, title = title, name_cat = name_cat, file_im = \"images/thirteen.png\")"
   ]
  },
  {
   "cell_type": "markdown",
   "metadata": {},
   "source": [
    "# Question 5\n",
    "\n",
    "\n",
    "### Sums : Adjacent vs Not : Different Sizes"
   ]
  },
  {
   "cell_type": "code",
   "execution_count": null,
   "metadata": {
    "collapsed": false
   },
   "outputs": [],
   "source": [
    "p1 = df[(df['QID73_1'].notnull())]['QID73_1']\n",
    "p2 = df[(df['QID74_1'].notnull())]['QID74_1']\n",
    "p3 = df[(df['QID75_1'].notnull())]['QID75_1']\n",
    "p4 = df[(df['QID76_1'].notnull())]['QID76_1']\n",
    "p5 = df[(df['QID77_1'].notnull())]['QID77_1']\n",
    "\n",
    "w1 = df[(df['QID79_1'].notnull())]['QID79_1']\n",
    "w2 = df[(df['QID80_1'].notnull())]['QID80_1']\n",
    "w3 = df[(df['QID81_1'].notnull())]['QID81_1']\n",
    "w4 = df[(df['QID82_1'].notnull())]['QID82_1']\n",
    "w5 = df[(df['QID83_1'].notnull())]['QID83_1']\n",
    "\n",
    "pie_adjacent = p1.append(p5)\n",
    "pie_opposite = p2.append(p4).append(p3)\n",
    "\n",
    "waffle_adjacent = w1.append(w5)\n",
    "waffle_opposite = w2.append(w4).append(w3)\n",
    "\n",
    "pies = [pie_adjacent, pie_opposite]\n",
    "waffles = [waffle_adjacent, waffle_opposite]\n",
    "correct = 18"
   ]
  },
  {
   "cell_type": "code",
   "execution_count": null,
   "metadata": {
    "collapsed": false
   },
   "outputs": [],
   "source": [
    "# Pie Vs Waffle (Adjacent)\n",
    "names = [\"pie_adjacent\", \"waffle_adjacent\"]\n",
    "plot_distributions([pie_adjacent, waffle_adjacent], names, \"Answer\", \"Probability\", \"Comparison\", \n",
    "                   18, False, \"images/fourteen.png\")"
   ]
  },
  {
   "cell_type": "code",
   "execution_count": null,
   "metadata": {
    "collapsed": false
   },
   "outputs": [],
   "source": [
    "# Pie Vs Waffle (Opposite)\n",
    "names = [\"pie_opposite\", \"waffle_opposite\"]\n",
    "plot_distributions([pie_opposite, waffle_opposite], names, \"Answer\", \"Probability\", \"Comparison\", \n",
    "                   18, True, \"images/fifthteen.png\")\n"
   ]
  },
  {
   "cell_type": "markdown",
   "metadata": {},
   "source": [
    "### Correctness of Labels"
   ]
  },
  {
   "cell_type": "code",
   "execution_count": null,
   "metadata": {
    "collapsed": false
   },
   "outputs": [],
   "source": [
    "p1 = df[(df['QID85_1'].notnull())]['QID85_1']\n",
    "p2 = df[(df['QID88_1'].notnull())]['QID88_1']\n",
    "p3 = df[(df['QID89_1'].notnull())]['QID89_1']\n",
    "\n",
    "w1 = df[(df['QID91_1'].notnull())]['QID91_1']\n",
    "w2 = df[(df['QID92_1'].notnull())]['QID92_1']\n",
    "w3 = df[(df['QID93_1'].notnull())]['QID93_1']\n",
    "\n",
    "pies = [p1, p2, p3]\n",
    "waffles = [w1,w2,w3]\n",
    "correct = 9\n",
    "# note\n",
    "print(\"all sizes: \")\n",
    "for item in [p1,p2,p3,w1,w2,w3]:\n",
    "    print(len(item))"
   ]
  },
  {
   "cell_type": "code",
   "execution_count": null,
   "metadata": {
    "collapsed": false
   },
   "outputs": [],
   "source": [
    "# Pie Vs Waffle\n",
    "names = [\"pie 1\", \"pie 2\"]\n",
    "plot_distributions([p1, p2], names, \"Answer\", \"Probability\", \"Comparison\", 9, \n",
    "                   True, \"images/sixteen.png\")\n",
    "\n",
    "### FOR THIS NOTE\n",
    "## Note: 1: only vanilla has wrong colour 2:  vanilla is right, everything else is wrong 3: all are wrong"
   ]
  },
  {
   "cell_type": "code",
   "execution_count": null,
   "metadata": {
    "collapsed": false
   },
   "outputs": [],
   "source": [
    "### FOR THIS NOT\n",
    "### p1 is better than p2, stat significant, cohen's d = 0.37 (SHOULD SAY p1 vs p3)\n",
    "# Pie Vs Waffle\n",
    "names = [\"pie 1\", \"pie 3\"]\n",
    "plot_distributions([p1, p3], names, \"Answer\", \"Probability\", \"Comparison\", 9, True, \"images/seventeen.png\")"
   ]
  }
 ],
 "metadata": {
  "anaconda-cloud": {},
  "kernelspec": {
   "display_name": "Python 3",
   "language": "python",
   "name": "python3"
  },
  "language_info": {
   "codemirror_mode": {
    "name": "ipython",
    "version": 3
   },
   "file_extension": ".py",
   "mimetype": "text/x-python",
   "name": "python",
   "nbconvert_exporter": "python",
   "pygments_lexer": "ipython3",
   "version": "3.6.0"
  }
 },
 "nbformat": 4,
 "nbformat_minor": 2
}
